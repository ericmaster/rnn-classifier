{
 "cells": [
  {
   "cell_type": "markdown",
   "id": "611706e2",
   "metadata": {},
   "source": [
    "# RNN Classifier con PyTorch Lightning\n",
    "## Trabajo Computacional 2\n",
    "\n",
    "Este notebook implementa un clasificador RNN para predecir el origen de nombres utilizando PyTorch Lightning.\n",
    "\n",
    "### Objetivos\n",
    "- Implementar un modelo RNN, LSTM y GRU para la tarea de clasificación usando PyTorch Lightning\n",
    "- Modularizar el código en componentes reutilizables:\n",
    "  - `model.py`: Definición del modelo RNN\n",
    "  - `datamodule.py`: Manejo de datos y preprocessing\n",
    "  - `train.py`: Loop de entrenamiento y evaluación"
   ]
  },
  {
   "cell_type": "markdown",
   "id": "78e29155",
   "metadata": {},
   "source": [
    "## Instalación y configuración\n",
    "\n",
    "Primero instalamos las dependencias necesarias e importamos las bibliotecas."
   ]
  },
  {
   "cell_type": "code",
   "execution_count": 1,
   "id": "daba8279",
   "metadata": {},
   "outputs": [],
   "source": [
    "# Instalar PyTorch Lightning si no está instalado\n",
    "# !pip install lightning"
   ]
  },
  {
   "cell_type": "code",
   "execution_count": null,
   "id": "e652b829",
   "metadata": {},
   "outputs": [
    {
     "name": "stdout",
     "output_type": "stream",
     "text": [
      "PyTorch version: 2.3.0+cu121\n",
      "PyTorch Lightning version: 2.5.3\n",
      "Device: CUDA\n"
     ]
    }
   ],
   "source": [
    "import os\n",
    "import torch\n",
    "import pytorch_lightning as pl\n",
    "import matplotlib.pyplot as plt\n",
    "import numpy as np\n",
    "import time\n",
    "\n",
    "# Importar módulos personalizados\n",
    "from utils.model import RNNClassifier\n",
    "from utils.datamodule import RNNDataset, RNNDataModule, n_letters\n",
    "from utils.eval import evaluate_model, plot_confusion_matrix, predict_name_origin\n",
    "\n",
    "from pytorch_lightning.callbacks import ModelCheckpoint\n",
    "from pytorch_lightning.loggers import CSVLogger\n",
    "from pytorch_lightning.callbacks import TQDMProgressBar, RichProgressBar\n",
    "torch.manual_seed(47)\n",
    "\n",
    "print(f\"PyTorch version: {torch.__version__}\")\n",
    "print(f\"PyTorch Lightning version: {pl.__version__}\")\n",
    "print(f\"Device: {'CUDA' if torch.cuda.is_available() else 'CPU'}\")"
   ]
  },
  {
   "cell_type": "markdown",
   "id": "ee472952",
   "metadata": {},
   "source": [
    "## Preparación de datos\n",
    "\n",
    "Descargamos y preparamos los datos de nombres si no están disponibles."
   ]
  },
  {
   "cell_type": "code",
   "execution_count": 3,
   "id": "6a389849",
   "metadata": {},
   "outputs": [
    {
     "name": "stdout",
     "output_type": "stream",
     "text": [
      "Los datos ya están disponibles.\n"
     ]
    }
   ],
   "source": [
    "# Descargar datos si no existen\n",
    "if not os.path.exists('./data'):\n",
    "    print(\"Descargando datos...\")\n",
    "    !wget https://download.pytorch.org/tutorial/data.zip\n",
    "    !unzip data.zip\n",
    "    !rm data.zip\n",
    "    print(\"Datos descargados exitosamente!\")\n",
    "else:\n",
    "    print(\"Los datos ya están disponibles.\")"
   ]
  },
  {
   "cell_type": "markdown",
   "id": "f5eea7fe",
   "metadata": {},
   "source": [
    "### Distribución de datos y balanceo\n",
    "\n",
    "Al cargar e inspeccionar los datos, estos se encontraban muy desbalanceados. Para poder definir las épocas adecuadamente se hizo un sobremuestreo de las clases con menos datos y con esto tener una distribución más equitativa de los datos"
   ]
  },
  {
   "cell_type": "code",
   "execution_count": 4,
   "id": "21111499",
   "metadata": {},
   "outputs": [
    {
     "name": "stdout",
     "output_type": "stream",
     "text": [
      "Cargando datos desde ./data/names/...\n"
     ]
    },
    {
     "name": "stdout",
     "output_type": "stream",
     "text": [
      "Polish: 139 ejemplos\n",
      "Greek: 203 ejemplos\n",
      "Chinese: 268 ejemplos\n",
      "Scottish: 100 ejemplos\n",
      "Italian: 709 ejemplos\n",
      "German: 724 ejemplos\n",
      "Dutch: 297 ejemplos\n",
      "Arabic: 2000 ejemplos\n",
      "Portuguese: 74 ejemplos\n",
      "English: 3668 ejemplos\n",
      "Russian: 9408 ejemplos\n",
      "French: 277 ejemplos\n",
      "Czech: 519 ejemplos\n",
      "Japanese: 991 ejemplos\n",
      "Spanish: 298 ejemplos\n",
      "Korean: 94 ejemplos\n",
      "Vietnamese: 73 ejemplos\n",
      "Irish: 232 ejemplos\n",
      "\n",
      "Balanceando dataset...\n",
      "Polish - nuevo tamaño: 9313\n",
      "Greek - nuevo tamaño: 9338\n",
      "Chinese - nuevo tamaño: 9380\n",
      "Scottish - nuevo tamaño: 9400\n",
      "Italian - nuevo tamaño: 9217\n",
      "German - nuevo tamaño: 8688\n",
      "Dutch - nuevo tamaño: 9207\n",
      "Arabic - nuevo tamaño: 8000\n",
      "Portuguese - nuevo tamaño: 9398\n",
      "English - nuevo tamaño: 7336\n",
      "French - nuevo tamaño: 9141\n",
      "Czech - nuevo tamaño: 9342\n",
      "Japanese - nuevo tamaño: 8919\n",
      "Spanish - nuevo tamaño: 9238\n",
      "Korean - nuevo tamaño: 9400\n",
      "Vietnamese - nuevo tamaño: 9344\n",
      "Irish - nuevo tamaño: 9280\n"
     ]
    }
   ],
   "source": [
    "# Cargamos el dataset\n",
    "dataset = RNNDataset(data_path=\"./data/names/\", balanced=True, verbose=True)"
   ]
  },
  {
   "cell_type": "code",
   "execution_count": 5,
   "id": "5dc2bad6",
   "metadata": {},
   "outputs": [
    {
     "name": "stdout",
     "output_type": "stream",
     "text": [
      "Número total de categorías: 18\n",
      "Categorías disponibles: ['Polish', 'Greek', 'Chinese', 'Scottish', 'Italian', 'German', 'Dutch', 'Arabic', 'Portuguese', 'English', 'Russian', 'French', 'Czech', 'Japanese', 'Spanish', 'Korean', 'Vietnamese', 'Irish']\n",
      "\n",
      "Ejemplos de entrenamiento:\n",
      "category = Vietnamese / line = Lieu\n",
      "category = Italian / line = Caro\n",
      "category = Portuguese / line = Alves\n",
      "category = Irish / line = Finn\n",
      "category = Japanese / line = Futabatei\n"
     ]
    }
   ],
   "source": [
    "categories = dataset.categories\n",
    "\n",
    "print(f\"Número total de categorías: {len(categories)}\")\n",
    "print(f\"Categorías disponibles: {categories}\")\n",
    "\n",
    "print(f\"\\nEjemplos de entrenamiento:\")\n",
    "for i in range(5):\n",
    "    category, line, category_tensor, line_tensor = dataset.get_random_sample()\n",
    "    print(f\"category = {category} / line = {line}\")\n"
   ]
  },
  {
   "cell_type": "markdown",
   "id": "57c3a492",
   "metadata": {},
   "source": [
    "## Entrenamiento del modelo\n",
    "\n",
    "Ahora entrenamos el modelo RNN usando PyTorch Lightning."
   ]
  },
  {
   "cell_type": "code",
   "execution_count": 6,
   "id": "e279e8ad",
   "metadata": {},
   "outputs": [
    {
     "name": "stdout",
     "output_type": "stream",
     "text": [
      "Configuración del entrenamiento:\n",
      "  hidden_size: 128\n",
      "  learning_rate: 0.005\n",
      "  n_epochs: 1\n",
      "  batch_size: 64\n",
      "  num_workers: 40\n"
     ]
    }
   ],
   "source": [
    "# Configuración del entrenamiento\n",
    "CONFIG = {\n",
    "    'hidden_size': 128,\n",
    "    'learning_rate': 0.005,\n",
    "    'n_epochs': 1,\n",
    "    'batch_size': 64,\n",
    "    'num_workers': 40,\n",
    "}\n",
    "\n",
    "print(\"Configuración del entrenamiento:\")\n",
    "for key, value in CONFIG.items():\n",
    "    print(f\"  {key}: {value}\")"
   ]
  },
  {
   "cell_type": "code",
   "execution_count": 7,
   "id": "3c579cf2",
   "metadata": {},
   "outputs": [
    {
     "name": "stdout",
     "output_type": "stream",
     "text": [
      "Creando modelo RNN...\n",
      "Modelo creado exitosamente!\n",
      "Arquitectura del modelo:\n",
      "  - Input size: 57 (caracteres)\n",
      "  - Hidden size: 128\n",
      "  - Output size: 18 (categorías)\n",
      "  - Learning rate: 0.005\n"
     ]
    }
   ],
   "source": [
    "# Crear la instancia del modelo RNN\n",
    "print(\"Creando modelo RNN...\")\n",
    "\n",
    "data_module = RNNDataModule(data_path=\"./data/names/\", batch_size=CONFIG['batch_size'], num_workers=40)\n",
    "categories = dataset.get_categories()\n",
    "\n",
    "# Crear el modelo con la configuración especificada\n",
    "model = RNNClassifier(\n",
    "    input_size=n_letters,\n",
    "    hidden_size=CONFIG['hidden_size'],\n",
    "    output_size=len(categories),\n",
    "    learning_rate=CONFIG['learning_rate']\n",
    ")\n",
    "\n",
    "print(f\"Modelo creado exitosamente!\")\n",
    "print(f\"Arquitectura del modelo:\")\n",
    "print(f\"  - Input size: {n_letters} (caracteres)\")\n",
    "print(f\"  - Hidden size: {CONFIG['hidden_size']}\")\n",
    "print(f\"  - Output size: {len(categories)} (categorías)\")\n",
    "print(f\"  - Learning rate: {CONFIG['learning_rate']}\")"
   ]
  },
  {
   "cell_type": "code",
   "execution_count": 8,
   "id": "a678af1e",
   "metadata": {},
   "outputs": [],
   "source": [
    "# Inicialización del modulo lightning\n",
    "\n",
    "callback_check = ModelCheckpoint(save_top_k=1, mode=\"max\", monitor=\"valid_acc\") # guardamos el mejor modelo monitoreado en la acc de validación.\n",
    "\n",
    "callback_tqdm = RichProgressBar(leave=True)\n",
    "\n",
    "logger = CSVLogger(save_dir=\"logs/\", name=\"rnn-classifier\")"
   ]
  },
  {
   "cell_type": "code",
   "execution_count": null,
   "id": "c52cf729",
   "metadata": {},
   "outputs": [
    {
     "name": "stderr",
     "output_type": "stream",
     "text": [
      "INFO:pytorch_lightning.utilities.rank_zero:Trainer will use only 1 of 4 GPUs because it is running inside an interactive / notebook environment. You may try to set `Trainer(devices=4)` but please note that multi-GPU inside interactive / notebook environments is considered experimental and unstable. Your mileage may vary.\n",
      "INFO:pytorch_lightning.utilities.rank_zero:GPU available: True (cuda), used: True\n",
      "INFO:pytorch_lightning.utilities.rank_zero:TPU available: False, using: 0 TPU cores\n",
      "INFO:pytorch_lightning.utilities.rank_zero:HPU available: False, using: 0 HPUs\n",
      "INFO:pytorch_lightning.accelerators.cuda:LOCAL_RANK: 0 - CUDA_VISIBLE_DEVICES: [0,1,2,3]\n"
     ]
    },
    {
     "data": {
      "text/html": [
       "<pre style=\"white-space:pre;overflow-x:auto;line-height:normal;font-family:Menlo,'DejaVu Sans Mono',consolas,'Courier New',monospace\">┏━━━┳━━━━━━━━━━━━┳━━━━━━━━━━━━━━━━━━━━┳━━━━━━━━┳━━━━━━━┓\n",
       "┃<span style=\"color: #800080; text-decoration-color: #800080; font-weight: bold\">   </span>┃<span style=\"color: #800080; text-decoration-color: #800080; font-weight: bold\"> Name       </span>┃<span style=\"color: #800080; text-decoration-color: #800080; font-weight: bold\"> Type               </span>┃<span style=\"color: #800080; text-decoration-color: #800080; font-weight: bold\"> Params </span>┃<span style=\"color: #800080; text-decoration-color: #800080; font-weight: bold\"> Mode  </span>┃\n",
       "┡━━━╇━━━━━━━━━━━━╇━━━━━━━━━━━━━━━━━━━━╇━━━━━━━━╇━━━━━━━┩\n",
       "│<span style=\"color: #7f7f7f; text-decoration-color: #7f7f7f\"> 0 </span>│ base_model │ RNN                │ 23.9 K │ train │\n",
       "│<span style=\"color: #7f7f7f; text-decoration-color: #7f7f7f\"> 1 </span>│ out        │ Linear             │  2.3 K │ train │\n",
       "│<span style=\"color: #7f7f7f; text-decoration-color: #7f7f7f\"> 2 </span>│ softmax    │ LogSoftmax         │      0 │ train │\n",
       "│<span style=\"color: #7f7f7f; text-decoration-color: #7f7f7f\"> 3 </span>│ criterion  │ NLLLoss            │      0 │ train │\n",
       "│<span style=\"color: #7f7f7f; text-decoration-color: #7f7f7f\"> 4 </span>│ train_acc  │ MulticlassAccuracy │      0 │ train │\n",
       "│<span style=\"color: #7f7f7f; text-decoration-color: #7f7f7f\"> 5 </span>│ valid_acc  │ MulticlassAccuracy │      0 │ train │\n",
       "│<span style=\"color: #7f7f7f; text-decoration-color: #7f7f7f\"> 6 </span>│ test_acc   │ MulticlassAccuracy │      0 │ train │\n",
       "└───┴────────────┴────────────────────┴────────┴───────┘\n",
       "</pre>\n"
      ],
      "text/plain": [
       "┏━━━┳━━━━━━━━━━━━┳━━━━━━━━━━━━━━━━━━━━┳━━━━━━━━┳━━━━━━━┓\n",
       "┃\u001b[1;35m \u001b[0m\u001b[1;35m \u001b[0m\u001b[1;35m \u001b[0m┃\u001b[1;35m \u001b[0m\u001b[1;35mName      \u001b[0m\u001b[1;35m \u001b[0m┃\u001b[1;35m \u001b[0m\u001b[1;35mType              \u001b[0m\u001b[1;35m \u001b[0m┃\u001b[1;35m \u001b[0m\u001b[1;35mParams\u001b[0m\u001b[1;35m \u001b[0m┃\u001b[1;35m \u001b[0m\u001b[1;35mMode \u001b[0m\u001b[1;35m \u001b[0m┃\n",
       "┡━━━╇━━━━━━━━━━━━╇━━━━━━━━━━━━━━━━━━━━╇━━━━━━━━╇━━━━━━━┩\n",
       "│\u001b[2m \u001b[0m\u001b[2m0\u001b[0m\u001b[2m \u001b[0m│ base_model │ RNN                │ 23.9 K │ train │\n",
       "│\u001b[2m \u001b[0m\u001b[2m1\u001b[0m\u001b[2m \u001b[0m│ out        │ Linear             │  2.3 K │ train │\n",
       "│\u001b[2m \u001b[0m\u001b[2m2\u001b[0m\u001b[2m \u001b[0m│ softmax    │ LogSoftmax         │      0 │ train │\n",
       "│\u001b[2m \u001b[0m\u001b[2m3\u001b[0m\u001b[2m \u001b[0m│ criterion  │ NLLLoss            │      0 │ train │\n",
       "│\u001b[2m \u001b[0m\u001b[2m4\u001b[0m\u001b[2m \u001b[0m│ train_acc  │ MulticlassAccuracy │      0 │ train │\n",
       "│\u001b[2m \u001b[0m\u001b[2m5\u001b[0m\u001b[2m \u001b[0m│ valid_acc  │ MulticlassAccuracy │      0 │ train │\n",
       "│\u001b[2m \u001b[0m\u001b[2m6\u001b[0m\u001b[2m \u001b[0m│ test_acc   │ MulticlassAccuracy │      0 │ train │\n",
       "└───┴────────────┴────────────────────┴────────┴───────┘\n"
      ]
     },
     "metadata": {},
     "output_type": "display_data"
    },
    {
     "data": {
      "text/html": [
       "<pre style=\"white-space:pre;overflow-x:auto;line-height:normal;font-family:Menlo,'DejaVu Sans Mono',consolas,'Courier New',monospace\"><span style=\"font-weight: bold\">Trainable params</span>: 26.3 K                                                                                           \n",
       "<span style=\"font-weight: bold\">Non-trainable params</span>: 0                                                                                            \n",
       "<span style=\"font-weight: bold\">Total params</span>: 26.3 K                                                                                               \n",
       "<span style=\"font-weight: bold\">Total estimated model params size (MB)</span>: 0                                                                          \n",
       "<span style=\"font-weight: bold\">Modules in train mode</span>: 7                                                                                           \n",
       "<span style=\"font-weight: bold\">Modules in eval mode</span>: 0                                                                                            \n",
       "</pre>\n"
      ],
      "text/plain": [
       "\u001b[1mTrainable params\u001b[0m: 26.3 K                                                                                           \n",
       "\u001b[1mNon-trainable params\u001b[0m: 0                                                                                            \n",
       "\u001b[1mTotal params\u001b[0m: 26.3 K                                                                                               \n",
       "\u001b[1mTotal estimated model params size (MB)\u001b[0m: 0                                                                          \n",
       "\u001b[1mModules in train mode\u001b[0m: 7                                                                                           \n",
       "\u001b[1mModules in eval mode\u001b[0m: 0                                                                                            \n"
      ]
     },
     "metadata": {},
     "output_type": "display_data"
    },
    {
     "data": {
      "application/vnd.jupyter.widget-view+json": {
       "model_id": "786df28f32874035af9c94a79bdb878b",
       "version_major": 2,
       "version_minor": 0
      },
      "text/plain": [
       "Output()"
      ]
     },
     "metadata": {},
     "output_type": "display_data"
    }
   ],
   "source": [
    "# Inicia entrenamiento\n",
    "\n",
    "trainer = pl.Trainer(max_epochs=CONFIG['n_epochs'],\n",
    "                    callbacks=[callback_check, callback_tqdm],\n",
    "                    accelerator=\"auto\",  # Uses GPUs or TPUs if available\n",
    "                    devices=\"auto\",  # Uses all available GPUs/TPUs if applicable\n",
    "                    logger=logger,\n",
    "                    deterministic=False,\n",
    "                    log_every_n_steps=10)\n",
    "\n",
    "start_time = time.time()\n",
    "trainer.fit(model = model, datamodule = data_module)\n",
    "\n",
    "runtime = (time.time() - start_time) / 60\n",
    "print(f\"Tiempo de entrenamiento en minutos: {runtime:.2f}\")\n",
    "\n",
    "print(\"¡Entrenamiento completado!\")"
   ]
  },
  {
   "cell_type": "markdown",
   "id": "b4bc3e62",
   "metadata": {},
   "source": [
    "## Evaluación del modelo\n",
    "\n",
    "Evaluamos el modelo entrenado y visualizamos los resultados."
   ]
  },
  {
   "cell_type": "code",
   "execution_count": null,
   "id": "a111a80b",
   "metadata": {},
   "outputs": [
    {
     "name": "stdout",
     "output_type": "stream",
     "text": [
      "Evaluando el modelo...\n",
      "Precisión: 0.7220\n",
      "Número de categorías: 18\n"
     ]
    },
    {
     "name": "stderr",
     "output_type": "stream",
     "text": [
      "/home/eaguayo/workspace/DeepLearning/rnn-classifier/utils/train.py:169: UserWarning: FixedFormatter should only be used together with FixedLocator\n",
      "  ax.set_xticklabels([''] + categories, rotation=90)\n",
      "/home/eaguayo/workspace/DeepLearning/rnn-classifier/utils/train.py:170: UserWarning: FixedFormatter should only be used together with FixedLocator\n",
      "  ax.set_yticklabels([''] + categories)\n"
     ]
    },
    {
     "data": {
      "image/png": "[encoded data removed]",
      "text/plain": [
       "<Figure size 1200x1000 with 2 Axes>"
      ]
     },
     "metadata": {},
     "output_type": "display_data"
    }
   ],
   "source": [
    "# Evaluar el modelo (como en el original)\n",
    "print(\"Evaluando el modelo...\")\n",
    "\n",
    "accuracy, confusion_matrix, categories = evaluate_model(model, data_module, n_samples=1000)\n",
    "\n",
    "print(f\"Precisión: {accuracy:.4f}\")\n",
    "print(f\"Número de categorías: {len(categories)}\")\n",
    "\n",
    "# Visualizar matriz de confusión\n",
    "plot_confusion_matrix(confusion_matrix, categories, 'Matriz de Confusión - RNN Classifier')"
   ]
  },
  {
   "cell_type": "markdown",
   "id": "91a68363",
   "metadata": {},
   "source": [
    "## Predicciones\n",
    "\n",
    "Probamos el modelo con algunos nombres de ejemplo."
   ]
  },
  {
   "cell_type": "code",
   "execution_count": null,
   "id": "24cee262",
   "metadata": {},
   "outputs": [
    {
     "name": "stdout",
     "output_type": "stream",
     "text": [
      "Predicciones del modelo:\n",
      "==================================================\n",
      "\n",
      "> Dovesky\n",
      "(-0.72) Czech\n",
      "(-0.82) Russian\n",
      "(-3.01) English\n",
      "\n",
      "\n",
      "> Jackson\n",
      "(-0.16) Scottish\n",
      "(-2.07) English\n",
      "(-4.76) Russian\n",
      "\n",
      "\n",
      "> Satoshi\n",
      "(-0.39) Japanese\n",
      "(-1.69) Italian\n",
      "(-2.68) Portuguese\n",
      "\n",
      "\n",
      "> Rodriguez\n",
      "(-0.48) Portuguese\n",
      "(-1.54) Spanish\n",
      "(-2.29) Dutch\n",
      "\n",
      "\n",
      "> Mueller\n",
      "(-0.76) Dutch\n",
      "(-1.72) Czech\n",
      "(-1.99) English\n",
      "\n",
      "\n",
      "> Li\n",
      "(-0.16) Vietnamese\n",
      "(-2.36) Korean\n",
      "(-3.03) Chinese\n",
      "\n",
      "\n",
      "> Nakamura\n",
      "(-0.01) Japanese\n",
      "(-5.60) Portuguese\n",
      "(-6.00) Arabic\n",
      "\n",
      "\n",
      "> Smith\n",
      "(-0.33) Scottish\n",
      "(-2.19) German\n",
      "(-2.92) Czech\n",
      "\n"
     ]
    }
   ],
   "source": [
    "# Probar predicciones con nombres de ejemplo\n",
    "test_names = ['Dovesky', 'Jackson', 'Satoshi', 'Rodriguez', 'Mueller', 'Li', 'Nakamura', 'Smith']\n",
    "\n",
    "print(\"Predicciones del modelo:\")\n",
    "print(\"=\" * 50)\n",
    "\n",
    "for name in test_names:\n",
    "    predictions = predict_name_origin(model, name, categories, n_predictions=3)\n",
    "    print()  # Línea en blanco entre predicciones"
   ]
  },
  {
   "cell_type": "markdown",
   "id": "570aa5a7",
   "metadata": {},
   "source": [
    "## Conclusiones\n",
    "\n",
    "La implementación con PyTorch Lightning ofrece las siguientes ventajas:\n",
    "\n",
    "1. **Código más limpio y modular**: Separación clara de responsabilidades\n",
    "2. **Mejor manejo de experimentos**: Logging automático y configuración fácil\n",
    "3. **Escalabilidad**: Fácil adaptación a diferentes recursos de hardware\n",
    "4. **Reproducibilidad**: Mejor control de semillas y configuraciones\n",
    "5. **Funcionalidades avanzadas**: Early stopping, checkpointing, etc.\n"
   ]
  },
  {
   "cell_type": "markdown",
   "id": "bc91bbe8",
   "metadata": {},
   "source": []
  }
 ],
 "metadata": {
  "kernelspec": {
   "display_name": "Python 3",
   "language": "python",
   "name": "python3"
  },
  "language_info": {
   "codemirror_mode": {
    "name": "ipython",
    "version": 3
   },
   "file_extension": ".py",
   "mimetype": "text/x-python",
   "name": "python",
   "nbconvert_exporter": "python",
   "pygments_lexer": "ipython3",
   "version": "3.10.12"
  }
 },
 "nbformat": 4,
 "nbformat_minor": 5
}
